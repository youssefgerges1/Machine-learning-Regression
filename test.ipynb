{
 "cells": [
  {
   "cell_type": "code",
   "execution_count": null,
   "metadata": {},
   "outputs": [],
   "source": [
    "{\n",
    "    \"longitude\": -122.23,\n",
    "    \"latitude\": 37.88,\n",
    "    \"housing_median_age\": 41.0,\n",
    "    \"total_rooms\": 880.0,\n",
    "    \"total_bedrooms\": 129.0,\n",
    "    \"population\": 322.0,\n",
    "    \"households\": 126.0,\n",
    "    \"median_income\": 8.3252,\n",
    "    \"ocean_proximity\": \"NEAR BAY\"\n",
    "}"
   ]
  }
 ],
 "metadata": {
  "language_info": {
   "name": "python"
  }
 },
 "nbformat": 4,
 "nbformat_minor": 2
}
